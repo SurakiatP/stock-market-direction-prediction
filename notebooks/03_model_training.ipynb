{
 "cells": [
  {
   "cell_type": "markdown",
   "metadata": {},
   "source": [
    "# 03_model_training.ipynb\n",
    "# Import necessary packages\n"
   ]
  },
  {
   "cell_type": "code",
   "execution_count": 50,
   "metadata": {},
   "outputs": [],
   "source": [
    "import pandas as pd\n",
    "import numpy as np\n",
    "import matplotlib.pyplot as plt\n",
    "import seaborn as sns\n",
    "import os\n",
    "import joblib\n",
    "\n",
    "from sklearn.model_selection import GridSearchCV\n",
    "from sklearn.metrics import precision_score, classification_report, confusion_matrix\n",
    "from sklearn.ensemble import RandomForestClassifier, GradientBoostingClassifier\n",
    "from sklearn.linear_model import LogisticRegression\n",
    "from xgboost import XGBClassifier"
   ]
  },
  {
   "cell_type": "markdown",
   "metadata": {},
   "source": [
    "# Load data and define train/test\n"
   ]
  },
  {
   "cell_type": "code",
   "execution_count": 51,
   "metadata": {},
   "outputs": [
    {
     "name": "stdout",
     "output_type": "stream",
     "text": [
      "🔹 Loading dataset from: ../data/processed/sp500_cleaned_model_ready.csv\n",
      "Dataset shape: (7872, 45)\n",
      "🔹 Train set: (7565, 44), Test set: (307, 44)\n"
     ]
    }
   ],
   "source": [
    "# Change this path if you want to load a different file\n",
    "data_path = \"../data/processed/sp500_cleaned_model_ready.csv\"\n",
    "\n",
    "print(f\"🔹 Loading dataset from: {data_path}\")\n",
    "df = pd.read_csv(data_path, index_col=0, parse_dates=True)\n",
    "print(f\"Dataset shape: {df.shape}\")\n",
    "\n",
    "# Define features & target\n",
    "# (If you want to remove low-correlation features, do it here)\n",
    "feature_cols = [col for col in df.columns if col not in [\"Tomorrow\", \"Target\"]]\n",
    "X = df[feature_cols]\n",
    "y = df[\"Target\"]\n",
    "\n",
    "# Time-based split\n",
    "train_cutoff = \"2024-01-01\"\n",
    "X_train = X[df.index < train_cutoff]\n",
    "y_train = y[df.index < train_cutoff]\n",
    "\n",
    "X_test = X[df.index >= train_cutoff]\n",
    "y_test = y[df.index >= train_cutoff]\n",
    "\n",
    "print(f\"🔹 Train set: {X_train.shape}, Test set: {X_test.shape}\")"
   ]
  },
  {
   "cell_type": "markdown",
   "metadata": {},
   "source": [
    "# Define models and hyperparams"
   ]
  },
  {
   "cell_type": "code",
   "execution_count": 52,
   "metadata": {},
   "outputs": [],
   "source": [
    "models = {\n",
    "    \"RandomForest\": {\n",
    "        \"model\": RandomForestClassifier(random_state=42, class_weight='balanced'),\n",
    "        \"params\": {\n",
    "            \"n_estimators\": [50, 100, 200],\n",
    "            \"min_samples_split\": [2, 10, 50]\n",
    "        }\n",
    "    },\n",
    "    \"GradientBoosting\": {\n",
    "        \"model\": GradientBoostingClassifier(random_state=42),\n",
    "        \"params\": {\n",
    "            \"n_estimators\": [50, 100],\n",
    "            \"learning_rate\": [0.01, 0.1],\n",
    "            \"max_depth\": [3, 5]\n",
    "        }\n",
    "    },\n",
    "    \"LogisticRegression\": {\n",
    "        \"model\": LogisticRegression(solver='liblinear', class_weight='balanced'),\n",
    "        \"params\": {\n",
    "            \"C\": [0.1, 1, 10]\n",
    "        }\n",
    "    },\n",
    "    \"XGBoost\": {\n",
    "        \"model\": XGBClassifier(random_state=42, use_label_encoder=False, eval_metric='logloss'),\n",
    "        \"params\": {\n",
    "            \"n_estimators\": [100],\n",
    "            \"max_depth\": [3, 5],\n",
    "            \"learning_rate\": [0.01, 0.1]\n",
    "        }\n",
    "    }\n",
    "}"
   ]
  },
  {
   "cell_type": "markdown",
   "metadata": {},
   "source": [
    "# Train each model with GridSearch + eval\n"
   ]
  },
  {
   "cell_type": "code",
   "execution_count": 53,
   "metadata": {},
   "outputs": [
    {
     "name": "stdout",
     "output_type": "stream",
     "text": [
      "\n",
      "Training RandomForest ...\n",
      "   Best Params: {'min_samples_split': 50, 'n_estimators': 200}\n",
      "   Test Precision: 0.9558\n",
      "\n",
      "   Classification Report:\n",
      "              precision    recall  f1-score   support\n",
      "\n",
      "           0       0.66      0.96      0.78       133\n",
      "           1       0.96      0.62      0.75       174\n",
      "\n",
      "    accuracy                           0.77       307\n",
      "   macro avg       0.81      0.79      0.77       307\n",
      "weighted avg       0.83      0.77      0.77       307\n",
      "\n",
      "   Confusion Matrix:\n",
      "[[128   5]\n",
      " [ 66 108]]\n",
      "\n",
      "Training GradientBoosting ...\n",
      "   Best Params: {'learning_rate': 0.1, 'max_depth': 5, 'n_estimators': 50}\n",
      "   Test Precision: 0.8805\n",
      "\n",
      "   Classification Report:\n",
      "              precision    recall  f1-score   support\n",
      "\n",
      "           0       0.77      0.86      0.81       133\n",
      "           1       0.88      0.80      0.84       174\n",
      "\n",
      "    accuracy                           0.83       307\n",
      "   macro avg       0.83      0.83      0.83       307\n",
      "weighted avg       0.83      0.83      0.83       307\n",
      "\n",
      "   Confusion Matrix:\n",
      "[[114  19]\n",
      " [ 34 140]]\n",
      "\n",
      "Training LogisticRegression ...\n",
      "   Best Params: {'C': 0.1}\n",
      "   Test Precision: 0.5731\n",
      "\n",
      "   Classification Report:\n",
      "              precision    recall  f1-score   support\n",
      "\n",
      "           0       0.46      0.19      0.27       133\n",
      "           1       0.57      0.83      0.68       174\n",
      "\n",
      "    accuracy                           0.55       307\n",
      "   macro avg       0.52      0.51      0.47       307\n",
      "weighted avg       0.53      0.55      0.50       307\n",
      "\n",
      "   Confusion Matrix:\n",
      "[[ 25 108]\n",
      " [ 29 145]]\n",
      "\n",
      "Training XGBoost ...\n"
     ]
    },
    {
     "name": "stderr",
     "output_type": "stream",
     "text": [
      "c:\\Machine Learning Projects\\stock-market-direction-prediction\\venv\\Lib\\site-packages\\xgboost\\training.py:183: UserWarning: [21:43:31] WARNING: C:\\actions-runner\\_work\\xgboost\\xgboost\\src\\learner.cc:738: \n",
      "Parameters: { \"use_label_encoder\" } are not used.\n",
      "\n",
      "  bst.update(dtrain, iteration=i, fobj=obj)\n"
     ]
    },
    {
     "name": "stdout",
     "output_type": "stream",
     "text": [
      "   Best Params: {'learning_rate': 0.1, 'max_depth': 5, 'n_estimators': 100}\n",
      "   Test Precision: 0.8994\n",
      "\n",
      "   Classification Report:\n",
      "              precision    recall  f1-score   support\n",
      "\n",
      "           0       0.84      0.87      0.86       133\n",
      "           1       0.90      0.87      0.89       174\n",
      "\n",
      "    accuracy                           0.87       307\n",
      "   macro avg       0.87      0.87      0.87       307\n",
      "weighted avg       0.87      0.87      0.87       307\n",
      "\n",
      "   Confusion Matrix:\n",
      "[[116  17]\n",
      " [ 22 152]]\n"
     ]
    }
   ],
   "source": [
    "results = []\n",
    "best_models = {}\n",
    "\n",
    "for name, config in models.items():\n",
    "    print(f\"\\nTraining {name} ...\")\n",
    "    grid = GridSearchCV(\n",
    "        estimator=config[\"model\"],\n",
    "        param_grid=config[\"params\"],\n",
    "        cv=5,                \n",
    "        scoring=\"precision\", \n",
    "        n_jobs=-1           \n",
    "    )\n",
    "    grid.fit(X_train, y_train)\n",
    "    \n",
    "    # Best estimator and predictions\n",
    "    best_estimator = grid.best_estimator_\n",
    "    y_pred = best_estimator.predict(X_test)\n",
    "    prec = precision_score(y_test, y_pred, zero_division=0)\n",
    "\n",
    "    print(f\"   Best Params: {grid.best_params_}\")\n",
    "    print(f\"   Test Precision: {prec:.4f}\")\n",
    "\n",
    "    # Optional: classification report\n",
    "    print(\"\\n   Classification Report:\")\n",
    "    print(classification_report(y_test, y_pred, zero_division=0))\n",
    "    \n",
    "    # Optional: confusion matrix\n",
    "    cm = confusion_matrix(y_test, y_pred)\n",
    "    print(\"   Confusion Matrix:\")\n",
    "    print(cm)\n",
    "\n",
    "    # Collect results\n",
    "    results.append({\n",
    "        \"Model\": name,\n",
    "        \"Best Precision\": prec,\n",
    "        \"Best Params\": grid.best_params_\n",
    "    })\n",
    "    best_models[name] = best_estimator"
   ]
  },
  {
   "cell_type": "markdown",
   "metadata": {},
   "source": [
    "# Summarize and visualize\n"
   ]
  },
  {
   "cell_type": "code",
   "execution_count": 54,
   "metadata": {},
   "outputs": [
    {
     "name": "stdout",
     "output_type": "stream",
     "text": [
      "\n",
      "Model training results saved to ../reports/model_training_results.csv\n"
     ]
    },
    {
     "data": {
      "image/png": "[encoded data removed]",
      "text/plain": [
       "<Figure size 1000x500 with 1 Axes>"
      ]
     },
     "metadata": {},
     "output_type": "display_data"
    }
   ],
   "source": [
    "results_df = pd.DataFrame(results).sort_values(by=\"Best Precision\", ascending=False)\n",
    "\n",
    "# Make sure directories exist\n",
    "os.makedirs(\"../reports/images/model\", exist_ok=True)\n",
    "os.makedirs(\"../reports\", exist_ok=True)\n",
    "\n",
    "# Save results to CSV\n",
    "results_df.to_csv(\"../reports/model_training_results.csv\", index=False)\n",
    "print(\"\\nModel training results saved to ../reports/model_training_results.csv\")\n",
    "\n",
    "# Plot bar chart\n",
    "plt.figure(figsize=(10, 5))\n",
    "sns.barplot(x=\"Model\", y=\"Best Precision\", data=results_df)\n",
    "plt.title(\"Model Comparison - Precision on Test Set\")\n",
    "plt.ylim(0, 1)\n",
    "plt.savefig(\"../reports/images/model/precision_comparison.png\")\n",
    "plt.show()"
   ]
  },
  {
   "cell_type": "markdown",
   "metadata": {},
   "source": [
    "# Save the best model"
   ]
  },
  {
   "cell_type": "code",
   "execution_count": 55,
   "metadata": {},
   "outputs": [
    {
     "name": "stdout",
     "output_type": "stream",
     "text": [
      "\n",
      "Best model 'RandomForest' saved to ../models/best_model_RandomForest.pkl\n",
      "\n",
      "Training pipeline complete!\n"
     ]
    }
   ],
   "source": [
    "best_model_name = results_df.iloc[0][\"Model\"]\n",
    "best_model = best_models[best_model_name]\n",
    "\n",
    "os.makedirs(\"../models\", exist_ok=True)\n",
    "model_path = f\"../models/best_model_{best_model_name}.pkl\"\n",
    "joblib.dump(best_model, model_path)\n",
    "\n",
    "print(f\"\\nBest model '{best_model_name}' saved to {model_path}\")\n",
    "print(\"\\nTraining pipeline complete!\")"
   ]
  }
 ],
 "metadata": {
  "kernelspec": {
   "display_name": "venv",
   "language": "python",
   "name": "python3"
  },
  "language_info": {
   "codemirror_mode": {
    "name": "ipython",
    "version": 3
   },
   "file_extension": ".py",
   "mimetype": "text/x-python",
   "name": "python",
   "nbconvert_exporter": "python",
   "pygments_lexer": "ipython3",
   "version": "3.12.9"
  }
 },
 "nbformat": 4,
 "nbformat_minor": 2
}
